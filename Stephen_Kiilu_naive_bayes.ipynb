{
  "cells": [
    {
      "cell_type": "markdown",
      "metadata": {
        "id": "view-in-github",
        "colab_type": "text"
      },
      "source": [
        "<a href=\"https://colab.research.google.com/github/stephenkiilu/NLP-Lab1/blob/main/Stephen_Kiilu_naive_bayes.ipynb\" target=\"_parent\"><img src=\"https://colab.research.google.com/assets/colab-badge.svg\" alt=\"Open In Colab\"/></a>"
      ]
    },
    {
      "cell_type": "markdown",
      "metadata": {
        "id": "vPNsgtP9VAZ-"
      },
      "source": [
        "The goal of this lab is to implement a language identifier (LID).\n",
        "\n",
        "Our first model will be based on Naive Bayes."
      ]
    },
    {
      "cell_type": "code",
      "execution_count": 12,
      "metadata": {
        "id": "m-c8pZMcVAaC"
      },
      "outputs": [],
      "source": [
        "import io, sys, math, re\n",
        "from collections import defaultdict"
      ]
    },
    {
      "cell_type": "markdown",
      "metadata": {
        "id": "eslCsxnnVAaF"
      },
      "source": [
        "The next function is used to load the data. Each line of the data consist of a label (corresponding to a language), followed by some text, written in that language. Here is an example of data:\n",
        "\n",
        "```__label__de Zur Namensdeutung gibt es mehrere Varianten.```\n"
      ]
    },
    {
      "cell_type": "code",
      "execution_count": 13,
      "metadata": {
        "id": "yurhQnrQVAaG"
      },
      "outputs": [],
      "source": [
        "def load_data(filename):\n",
        "    fin = io.open(filename, 'r', encoding='utf-8')\n",
        "    data = []\n",
        "    for line in fin:\n",
        "        tokens = line.split()\n",
        "        data.append((tokens[0], tokens[1:]))\n",
        "    return data"
      ]
    },
    {
      "cell_type": "markdown",
      "metadata": {
        "id": "PRdf9FtUVAaG"
      },
      "source": [
        "You can now try loading the first dataset `train1.txt` and look what examples look like."
      ]
    },
    {
      "cell_type": "code",
      "execution_count": 14,
      "metadata": {
        "id": "lXaNGtOLVAaH",
        "colab": {
          "base_uri": "https://localhost:8080/"
        },
        "outputId": "de4467cf-8913-4328-9eb7-7667e5efdf81"
      },
      "outputs": [
        {
          "output_type": "stream",
          "name": "stdout",
          "text": [
            "[('__label__de', ['Ich', 'würde', 'alles', 'tun,', 'um', 'dich', 'zu', 'beschützen.']), ('__label__de', ['Tom', 'ist', 'an', 'Kunst', 'völlig', 'uninteressiert.']), ('__label__hu', ['Végeztem', 'Tomival.']), ('__label__de', ['„Wird', 'das', 'in', 'der', 'Werkstatt', 'gemacht?“', '–', '„Nein,', 'das', 'muss', 'an', 'Ort', 'und', 'Stelle', 'erledigt', 'werden.“']), ('__label__ru', ['У', 'меня', 'есть', 'яблоко.']), ('__label__it', ['Non', 'possiamo', 'lasciarle', 'lì.']), ('__label__ru', ['Том', 'считает,', 'что', 'школа', '—', 'это', 'пустая', 'трата', 'времени.']), ('__label__en', ['My', 'fathers', \"don't\", 'speak', 'Dutch.']), ('__label__es', ['El', 'niño', 'no', 'sabe', 'cómo', 'comportarse.']), ('__label__ru', ['Она', 'думала,', 'что', 'он', 'переночует', 'у', 'неё.'])]\n"
          ]
        }
      ],
      "source": [
        "data = load_data(\"train1.txt\")\n",
        "print(data[0:10])\n"
      ]
    },
    {
      "cell_type": "markdown",
      "metadata": {
        "id": "zh4geShlVAaH"
      },
      "source": [
        "Next, we will start implementing the Naive Bayes method. This technique is based on word counts, and we thus need to start by implementing a function to count the words and labels of our training set.\n",
        "\n",
        "`n_examples` is the total number of examples\n",
        "\n",
        "`n_words_per_label` is the total number of words for a given label\n",
        "\n",
        "`label_counts` is the number of times a given label appears in the training data\n",
        "\n",
        "`word_counts` is the number of times a word appears with a given label"
      ]
    },
    {
      "cell_type": "code",
      "source": [
        "# s=['one','two','three','four','one','four','two','one','three','one']\n",
        "# label=defaultdict(lambda: 0)\n",
        "# for i in s:\n",
        "#   label[i]+=len(i)\n",
        "# label.items()"
      ],
      "metadata": {
        "id": "VJukSoW79GTD"
      },
      "execution_count": 15,
      "outputs": []
    },
    {
      "cell_type": "code",
      "source": [
        ""
      ],
      "metadata": {
        "id": "UMuAk8FpHoui"
      },
      "execution_count": 15,
      "outputs": []
    },
    {
      "cell_type": "code",
      "execution_count": 16,
      "metadata": {
        "id": "2nuoxUDHVAaI"
      },
      "outputs": [],
      "source": [
        "def count_words(data):\n",
        "    n_examples = 0\n",
        "    n_words_per_label = defaultdict(lambda: 0)\n",
        "    label_counts = defaultdict(lambda: 0)\n",
        "    word_counts = defaultdict(lambda: defaultdict(lambda: 0.0))\n",
        "\n",
        "    for example in data:\n",
        "        label, sentence = example\n",
        "\n",
        "        label_counts[label]+=1\n",
        "        \n",
        "\n",
        "\n",
        "        for i in range(len(sentence)):\n",
        "             word_counts[label][sentence[i]]+=1\n",
        "             n_words_per_label[label]+=1\n",
        "\n",
        "\n",
        "\n",
        "    n_examples=len(data)\n",
        "\n",
        "        \n",
        "\n",
        "\n",
        "\n",
        "    return {'label_counts': label_counts, \n",
        "            'word_counts': word_counts, \n",
        "            'n_examples': n_examples, \n",
        "            'n_words_per_label': n_words_per_label}"
      ]
    },
    {
      "cell_type": "code",
      "source": [
        "# count_words(data[0:5])"
      ],
      "metadata": {
        "id": "FRL_rjwiHjRb"
      },
      "execution_count": 17,
      "outputs": []
    },
    {
      "cell_type": "markdown",
      "metadata": {
        "id": "UPjuGhDlVAaJ"
      },
      "source": [
        "Next, using the word and label counts from the previous function, we can implement the prediction function.\n",
        "\n",
        "Here, `mu` is a regularization parameter (Laplace smoothing), and `sentence` is the list of words corresponding to the test example."
      ]
    },
    {
      "cell_type": "code",
      "source": [
        "dat=count_words(data[0:10] )\n",
        "# dat['n_examples']\n",
        "# dat['word_counts']"
      ],
      "metadata": {
        "id": "AYSk4kEtoxvf"
      },
      "execution_count": 18,
      "outputs": []
    },
    {
      "cell_type": "code",
      "execution_count": 19,
      "metadata": {
        "id": "6hmcEufUVAaJ"
      },
      "outputs": [],
      "source": [
        "def predict(sentence, mu, label_counts, word_counts, n_examples, n_words_per_label):\n",
        "    best_label = None\n",
        "    best_score = float('-inf')\n",
        "\n",
        "    for label in word_counts.keys():\n",
        "        score = 0.0\n",
        "        ## FILE CODE\n",
        "        vocab = len(word_counts[label])\n",
        "        for word in sentence:\n",
        "          C_jk=word_counts[label][word] \n",
        "          total_jk=n_words_per_label[label] \n",
        "          num = C_jk + mu\n",
        "          den = total_jk +mu * vocab\n",
        "          score += math.log(num/den)\n",
        "        score += math.log(label_counts[label]/n_examples)\n",
        "        if score > best_score:\n",
        "            best_score = score\n",
        "            best_label = label\n",
        "\n",
        "    return best_label"
      ]
    },
    {
      "cell_type": "markdown",
      "metadata": {
        "id": "-ZkzTmeJVAaK"
      },
      "source": [
        "The next function will be used to evaluate the Naive Bayes model on a validation set. It computes the accuracy for a particular regularization parameter `mu`."
      ]
    },
    {
      "cell_type": "code",
      "execution_count": 20,
      "metadata": {
        "id": "nRqIxtoSVAaK"
      },
      "outputs": [],
      "source": [
        "def compute_accuracy(valid_data, mu, counts):\n",
        "    accuracy = 0.0\n",
        "    for label, sentence in valid_data:\n",
        "        ## FILL CODE\n",
        "      # pred=predict(sentence, mu,**counts)\n",
        "      pred=predict(sentence, mu, label_counts, word_counts, n_examples, n_words_per_label)\n",
        "      if pred == label:\n",
        "            accuracy+=1\n",
        "     \n",
        "    return accuracy/len(valid_data)"
      ]
    },
    {
      "cell_type": "code",
      "execution_count": 21,
      "metadata": {
        "id": "2KjTMC5wVAaK",
        "colab": {
          "base_uri": "https://localhost:8080/"
        },
        "outputId": "deccf507-84b0-4fae-b2a0-8e4d764f5d16"
      },
      "outputs": [
        {
          "output_type": "stream",
          "name": "stdout",
          "text": [
            "\n",
            "** Naive Bayes **\n",
            "\n",
            "Validation accuracy: 0.990\n",
            "\n"
          ]
        }
      ],
      "source": [
        "print(\"\")\n",
        "print(\"** Naive Bayes **\")\n",
        "print(\"\")\n",
        "\n",
        "mu = 1.0\n",
        "train_data = load_data(\"train1.txt\")\n",
        "valid_data = load_data(\"valid1.txt\")\n",
        "counts = count_words(train_data)\n",
        "valid=count_words(valid_data)\n",
        "label_counts=valid['label_counts']\n",
        "word_counts=valid['word_counts']\n",
        "n_examples=valid['n_examples']\n",
        "n_words_per_label=valid['n_words_per_label']\n",
        "print(\"Validation accuracy: %.3f\" % compute_accuracy(valid_data, mu, counts))\n",
        "print(\"\")"
      ]
    },
    {
      "cell_type": "code",
      "source": [
        "# for label, sentence in valid_data:\n",
        "#  pred=predict(sentence, mu, label_counts, word_counts, n_examples, n_words_per_label)\n",
        "#  print(pred)\n",
        " \n",
        "\n",
        " "
      ],
      "metadata": {
        "id": "rqtbPImttZ60"
      },
      "execution_count": 22,
      "outputs": []
    },
    {
      "cell_type": "code",
      "source": [
        ""
      ],
      "metadata": {
        "id": "HwSBHr-yogW6"
      },
      "execution_count": 22,
      "outputs": []
    }
  ],
  "metadata": {
    "kernelspec": {
      "display_name": "Python 3",
      "language": "python",
      "name": "python3"
    },
    "language_info": {
      "codemirror_mode": {
        "name": "ipython",
        "version": 3
      },
      "file_extension": ".py",
      "mimetype": "text/x-python",
      "name": "python",
      "nbconvert_exporter": "python",
      "pygments_lexer": "ipython3",
      "version": "3.6.2+"
    },
    "colab": {
      "name": "Stephen_Kiilu_naive_bayes.ipynb",
      "provenance": [],
      "collapsed_sections": [],
      "include_colab_link": true
    }
  },
  "nbformat": 4,
  "nbformat_minor": 0
}